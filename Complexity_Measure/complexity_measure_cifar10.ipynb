{
 "cells": [
  {
   "cell_type": "code",
   "execution_count": 1,
   "metadata": {},
   "outputs": [
    {
     "name": "stderr",
     "output_type": "stream",
     "text": [
      "Using TensorFlow backend.\n",
      "/LOCAL/gjin/anaconda3/lib/python3.7/site-packages/tensorflow/python/framework/dtypes.py:526: FutureWarning: Passing (type, 1) or '1type' as a synonym of type is deprecated; in a future version of numpy, it will be understood as (type, (1,)) / '(1,)type'.\n",
      "  _np_qint8 = np.dtype([(\"qint8\", np.int8, 1)])\n",
      "/LOCAL/gjin/anaconda3/lib/python3.7/site-packages/tensorflow/python/framework/dtypes.py:527: FutureWarning: Passing (type, 1) or '1type' as a synonym of type is deprecated; in a future version of numpy, it will be understood as (type, (1,)) / '(1,)type'.\n",
      "  _np_quint8 = np.dtype([(\"quint8\", np.uint8, 1)])\n",
      "/LOCAL/gjin/anaconda3/lib/python3.7/site-packages/tensorflow/python/framework/dtypes.py:528: FutureWarning: Passing (type, 1) or '1type' as a synonym of type is deprecated; in a future version of numpy, it will be understood as (type, (1,)) / '(1,)type'.\n",
      "  _np_qint16 = np.dtype([(\"qint16\", np.int16, 1)])\n",
      "/LOCAL/gjin/anaconda3/lib/python3.7/site-packages/tensorflow/python/framework/dtypes.py:529: FutureWarning: Passing (type, 1) or '1type' as a synonym of type is deprecated; in a future version of numpy, it will be understood as (type, (1,)) / '(1,)type'.\n",
      "  _np_quint16 = np.dtype([(\"quint16\", np.uint16, 1)])\n",
      "/LOCAL/gjin/anaconda3/lib/python3.7/site-packages/tensorflow/python/framework/dtypes.py:530: FutureWarning: Passing (type, 1) or '1type' as a synonym of type is deprecated; in a future version of numpy, it will be understood as (type, (1,)) / '(1,)type'.\n",
      "  _np_qint32 = np.dtype([(\"qint32\", np.int32, 1)])\n",
      "/LOCAL/gjin/anaconda3/lib/python3.7/site-packages/tensorflow/python/framework/dtypes.py:535: FutureWarning: Passing (type, 1) or '1type' as a synonym of type is deprecated; in a future version of numpy, it will be understood as (type, (1,)) / '(1,)type'.\n",
      "  np_resource = np.dtype([(\"resource\", np.ubyte, 1)])\n"
     ]
    },
    {
     "name": "stdout",
     "output_type": "stream",
     "text": [
      "WARNING:tensorflow:From /LOCAL/gjin/anaconda3/lib/python3.7/site-packages/tensorflow/python/framework/op_def_library.py:263: colocate_with (from tensorflow.python.framework.ops) is deprecated and will be removed in a future version.\n",
      "Instructions for updating:\n",
      "Colocations handled automatically by placer.\n",
      "WARNING:tensorflow:From /LOCAL/gjin/anaconda3/lib/python3.7/site-packages/tensorflow/python/ops/math_ops.py:3066: to_int32 (from tensorflow.python.ops.math_ops) is deprecated and will be removed in a future version.\n",
      "Instructions for updating:\n",
      "Use tf.cast instead.\n",
      "1\n",
      "2\n",
      "WARNING:tensorflow:From /LOCAL/gjin/anaconda3/lib/python3.7/site-packages/keras/backend/tensorflow_backend.py:3445: calling dropout (from tensorflow.python.ops.nn_ops) with keep_prob is deprecated and will be removed in a future version.\n",
      "Instructions for updating:\n",
      "Please use `rate` instead of `keep_prob`. Rate should be set to `rate = 1 - keep_prob`.\n",
      "3\n",
      "4\n",
      "5\n",
      "6\n",
      "7\n",
      "8\n",
      "9\n"
     ]
    }
   ],
   "source": [
    "import numpy as np\n",
    "from numpy import linalg as LA\n",
    "import pickle\n",
    "import sys\n",
    "import os\n",
    "from keras.models import load_model\n",
    "from scipy.linalg import eigh\n",
    "\n",
    "def cosine(x):\n",
    "    d_inner = np.dot(x.T,x) #inner product\n",
    "\n",
    "    l2 = np.linalg.norm(x,axis=0)\n",
    "    d_norm = np.outer(l2.T,l2) #l2 norm\n",
    "    d_norm = (d_inner+0.00001)/(d_norm+0.00001)\n",
    "    return d_norm \n",
    "\n",
    "import tensorflow as tf\n",
    "os.environ[\"CUDA_VISIBLE_DEVICES\"]=\"0\" \n",
    "config = tf.ConfigProto()\n",
    "config.gpu_options.per_process_gpu_memory_fraction = 0.95\n",
    "session = tf.Session(config=config)\n",
    "\n",
    "fcn1_initial = load_model('relu_cifar10_5000-2500-2500-1250/initial.h5')\n",
    "fcn1_final = load_model('relu_cifar10_5000-2500-2500-1250'+'/final.h5')\n",
    "print(1)\n",
    "fcn2_initial = load_model('relu_cifar10_10000-1000-1000-1000/initial.h5')\n",
    "fcn2_final = load_model('relu_cifar10_10000-1000-1000-1000'+'/final.h5')\n",
    "print(2)\n",
    "vgg11_initial = load_model('vgg11_cifar10/initial.h5')\n",
    "vgg11_final = load_model('vgg11_cifar10'+'/final.h5')\n",
    "print(3)\n",
    "vgg16_initial = load_model('vgg16_cifar10/initial.h5')\n",
    "vgg16_final = load_model('vgg16_cifar10'+'/final.h5')\n",
    "print(4)\n",
    "vgg19_initial = load_model('vgg19_cifar10/initial.h5')\n",
    "vgg19_final = load_model('vgg19_cifar10'+'/final.h5')\n",
    "print(5)\n",
    "resnet18_initial = load_model('resnet18_cifar10/initial.h5')\n",
    "resnet18_final = load_model('resnet18_cifar10'+'/final.h5')\n",
    "print(6)\n",
    "resnet34_initial = load_model('resnet34_cifar10/initial.h5')\n",
    "resnet34_final = load_model('resnet34_cifar10'+'/final.h5')\n",
    "print(7)\n",
    "resnet50_initial = load_model('resnet50_cifar10/initial.h5')\n",
    "resnet50_final = load_model('resnet50_cifar10'+'/final.h5')\n",
    "print(8)\n",
    "densenet121_initial = load_model('densenet121_cifar10/initial.h5')\n",
    "densenet121_final = load_model('densenet121_cifar10'+'/final.h5')\n",
    "print(9)"
   ]
  },
  {
   "cell_type": "code",
   "execution_count": 3,
   "metadata": {},
   "outputs": [
    {
     "name": "stdout",
     "output_type": "stream",
     "text": [
      "2.0565349135599287\n",
      "2.3547526305638256\n",
      "0.9291898392868041\n",
      "0.5536880187988282\n",
      "0.6781374630737305\n",
      "2.681919717798233\n",
      "2.552002730770111\n",
      "2.807675155150108\n",
      "1.437852966171616\n",
      "[2.0565349135599287, 2.3547526305638256, 0.9291898392868041, 0.5536880187988282, 0.6781374630737305, 2.681919717798233, 2.552002730770111, 2.807675155150108, 1.437852966171616]\n"
     ]
    }
   ],
   "source": [
    "import sys \n",
    "sys.path.append(\"..\") \n",
    "import utils\n",
    "\n",
    "gap = []\n",
    "trn, tst = utils.get_cifar10('FCN')\n",
    "for z in [fcn1_final, fcn2_final]:\n",
    "    trnloss, trnacc = z.evaluate(trn.X, trn.Y, verbose=0)\n",
    "    tstloss, tstacc = z.evaluate(tst.X, tst.Y, verbose=0)\n",
    "    print(tstloss-trnloss)\n",
    "    gap.append(tstloss-trnloss)\n",
    "\n",
    "trn, tst = utils.get_cifar10('CNN')    \n",
    "for z in [vgg11_final, vgg16_final, vgg19_final, resnet18_final, resnet34_final, resnet50_final, densenet121_final]:\n",
    "    trnloss, trnacc = z.evaluate(trn.X, trn.Y, verbose=0)\n",
    "    tstloss, tstacc = z.evaluate(tst.X, tst.Y, verbose=0)\n",
    "    print(tstloss-trnloss)\n",
    "    gap.append(tstloss-trnloss)\n",
    "\n",
    "print(gap)"
   ]
  },
  {
   "cell_type": "code",
   "execution_count": 4,
   "metadata": {},
   "outputs": [
    {
     "name": "stdout",
     "output_type": "stream",
     "text": [
      "PFN:\n",
      "[81164634.96651596, 33338642.146074183, 85778043279.79686, 5083848646973853.0, 1.1301702231164035e+19, 2.529652002844311e+22, 9.960333480014198e+34, 1.4008034169039389e+76, 5.958950833828354e+176]\n"
     ]
    }
   ],
   "source": [
    "all_final = [fcn1_final, fcn2_final,vgg11_final, vgg16_final, vgg19_final, resnet18_final, resnet34_final, resnet50_final, densenet121_final] \n",
    "print('PFN:')\n",
    "\n",
    "PFN_measure = []\n",
    "for z in all_final:\n",
    "    wf = z.get_weights()\n",
    "    pp = 1\n",
    "    for w in wf:\n",
    "        if len(w.shape)>1:\n",
    "            pp = pp*LA.norm(w) \n",
    "    PFN_measure.append(pp)\n",
    "print(PFN_measure)"
   ]
  },
  {
   "cell_type": "code",
   "execution_count": 5,
   "metadata": {},
   "outputs": [
    {
     "name": "stdout",
     "output_type": "stream",
     "text": [
      "PSN:\n",
      "[14619.510795730364, 8558.538992292668, 143497.5849207305, 13999415.60210112, 294699100.0001145, 1054712421890.5027, 4.951817310863388e+16, 7.54292594178186e+46, 1.4065152575886064e+151]\n"
     ]
    }
   ],
   "source": [
    "all_final = [fcn1_final, fcn2_final,vgg11_final, vgg16_final, vgg19_final, resnet18_final, resnet34_final, resnet50_final, densenet121_final] \n",
    "print('PSN:')\n",
    "\n",
    "PSN_measure = []\n",
    "for z in all_final:\n",
    "    pp = 1\n",
    "    wf = z.get_weights()\n",
    "    for i in range(len(wf)):\n",
    "        if len(wf[i].shape) == 2:\n",
    "            if wf[i].shape[0] > wf[i].shape[1]:\n",
    "                aa = wf[i].T.dot(wf[i])\n",
    "            else:\n",
    "                aa = wf[i].dot(wf[i].T)     \n",
    "            pp = pp * np.sqrt(np.max(np.sum(np.abs(aa),axis=1)))\n",
    "        elif len(wf[i].shape) == 4:\n",
    "            aa = 0\n",
    "            for w1 in wf[i]:\n",
    "                for w2 in w1:\n",
    "                    zz = w2.dot(w2.T)\n",
    "                    aa = aa + np.max(np.sum(np.abs(zz),axis=1))\n",
    "            pp = pp * np.sqrt(aa)\n",
    "    PSN_measure.append(pp)\n",
    "print(PSN_measure)    "
   ]
  },
  {
   "cell_type": "code",
   "execution_count": 6,
   "metadata": {},
   "outputs": [
    {
     "name": "stdout",
     "output_type": "stream",
     "text": [
      "NOP:\n",
      "[37247501, 42730001, 9747137, 15239873, 20548289, 11176129, 21276865, 23475393, 6880449]\n"
     ]
    }
   ],
   "source": [
    "all_final = [fcn1_final, fcn2_final,vgg11_final, vgg16_final, vgg19_final, resnet18_final, resnet34_final, resnet50_final, densenet121_final] \n",
    "print('NOP:')\n",
    "\n",
    "NOP_measure = []\n",
    "for z in all_final:\n",
    "    pp = 1\n",
    "    wf = z.get_weights()\n",
    "    for i in range(len(wf)):\n",
    "        if len(wf[i].shape) == 2:\n",
    "            pp = pp + wf[i].shape[0]*wf[i].shape[1]\n",
    "        elif len(wf[i].shape) == 4:\n",
    "            pp = pp + wf[i].shape[0]*wf[i].shape[1]*wf[i].shape[2]*wf[i].shape[3]\n",
    "    NOP_measure.append(pp)\n",
    "print(NOP_measure)  "
   ]
  },
  {
   "cell_type": "code",
   "execution_count": 7,
   "metadata": {},
   "outputs": [
    {
     "name": "stdout",
     "output_type": "stream",
     "text": [
      "SOSP:\n",
      "[1600035538.7222767, 1606762606.716156, 248887595.94726652, 527655564.3831213, 812336935.0760801, 845250733.9371884, 3125297496.0727882, 6105026277.913242, 15671366949.111446]\n"
     ]
    }
   ],
   "source": [
    "all_final = [fcn1_final, fcn2_final,vgg11_final, vgg16_final, vgg19_final, resnet18_final, resnet34_final, resnet50_final, densenet121_final]\n",
    "all_initial = [fcn1_initial, fcn2_initial,vgg11_initial, vgg16_initial, vgg19_initial, resnet18_initial, resnet34_initial, resnet50_initial, densenet121_initial] \n",
    "print('SOSP:')\n",
    "\n",
    "SOSP_measure = []\n",
    "for z,x in zip(all_final,all_initial):\n",
    "    n=0\n",
    "    pp=0\n",
    "    wf = z.get_weights()\n",
    "    w0 = x.get_weights()\n",
    "    \n",
    "    for i in range(len(wf)):\n",
    "        wf[i]=wf[i]-w0[i]\n",
    "        if len(wf[i].shape) == 2:\n",
    "            n = n + wf[i].shape[0]*wf[i].shape[1]\n",
    "        elif len(wf[i].shape) == 4:\n",
    "            n = n + wf[i].shape[0]*wf[i].shape[1]*wf[i].shape[2]*wf[i].shape[3]\n",
    "\n",
    "        if len(wf[i].shape) == 2:\n",
    "            if wf[i].shape[0] > wf[i].shape[1]:\n",
    "                aa = wf[i].T.dot(wf[i])\n",
    "            else:\n",
    "                aa = wf[i].dot(wf[i].T)     \n",
    "            pp = pp + np.sqrt(np.max(np.sum(np.abs(aa),axis=1)))\n",
    "        elif len(wf[i].shape) == 4:\n",
    "            aa = 0\n",
    "            for w1 in wf[i]:\n",
    "                for w2 in w1:\n",
    "                    zz = w2.dot(w2.T)\n",
    "                    aa = aa + np.max(np.sum(np.abs(zz),axis=1))\n",
    "            pp = pp + np.sqrt(aa)\n",
    "    pp = n*pp\n",
    "    SOSP_measure.append(pp)\n",
    "print(SOSP_measure) "
   ]
  },
  {
   "cell_type": "code",
   "execution_count": 8,
   "metadata": {},
   "outputs": [
    {
     "name": "stdout",
     "output_type": "stream",
     "text": [
      "WC:\n",
      "[0.29769465923309324, 0.2963906764984131, 0.2737462690443411, 0.275206018666095, 0.2740141661072216, 0.732712105421176, 0.7338545935068093, 0.2787850319944992, 0.3578975387298746]\n"
     ]
    }
   ],
   "source": [
    "all_final = [fcn1_final, fcn2_final,vgg11_final, vgg16_final, vgg19_final, resnet18_final, resnet34_final, resnet50_final, densenet121_final] \n",
    "print('WC:')\n",
    "\n",
    "WC_measure = []\n",
    "for z in all_final:\n",
    "    pp = 1\n",
    "    n=0\n",
    "    counter = 0\n",
    "    wf = z.get_weights()\n",
    "    for i in range(len(wf)):\n",
    "        if len(wf[i].shape) == 2:\n",
    "            n = n + np.mean(np.abs(cosine(wf[i][:9])))\n",
    "            counter += 1\n",
    "        elif len(wf[i].shape) == 4 and wf[i].shape[0]>1:\n",
    "            wf[i] = wf[i].transpose((2,3,0,1))\n",
    "            wf[i] = wf[i].reshape(wf[i].shape[0],wf[i].shape[1],-1)\n",
    "            for zz in wf[i]:\n",
    "                n = n + np.mean(np.abs(cosine(zz.T)))\n",
    "                counter += 1\n",
    "    WC_measure.append(n/counter)\n",
    "print(WC_measure)   "
   ]
  },
  {
   "cell_type": "code",
   "execution_count": 9,
   "metadata": {},
   "outputs": [
    {
     "name": "stdout",
     "output_type": "stream",
     "text": [
      "PB:\n",
      "[11636.039458743406, 8857.855593098007, 2022.3866813273316, 2623.5754268042674, 3345.768628566619, 4763.476229957958, 10353.829066383485, 16221039.808389993, 1049850584.7461755]\n"
     ]
    }
   ],
   "source": [
    "all_final = [fcn1_final, fcn2_final,vgg11_final, vgg16_final, vgg19_final, resnet18_final, resnet34_final, resnet50_final, densenet121_final]\n",
    "all_initial = [fcn1_initial, fcn2_initial,vgg11_initial, vgg16_initial, vgg19_initial, resnet18_initial, resnet34_initial, resnet50_initial, densenet121_initial] \n",
    "print('PB:')\n",
    "\n",
    "PB_measure = []\n",
    "for z,x in zip(all_final,all_initial):\n",
    "    pp=0\n",
    "    wf = z.get_weights()\n",
    "    w0 = x.get_weights()\n",
    "    \n",
    "    for i in range(len(wf)):\n",
    "        pp = pp+LA.norm(wf[i]-w0[i])**2\n",
    "    PB_measure.append(pp/2)\n",
    "print(PB_measure)"
   ]
  },
  {
   "cell_type": "code",
   "execution_count": 11,
   "metadata": {},
   "outputs": [
    {
     "name": "stdout",
     "output_type": "stream",
     "text": [
      "gw:\n",
      "[102539.96375062593, 115985.68734740582, 32171.97327675808, 34698.972006557546, 39308.05430474721, 129849.96658356296, 120448.80603449888, 23776.65004808116, 2034.134567273592]\n"
     ]
    }
   ],
   "source": [
    "all_final = [fcn1_final, fcn2_final,vgg11_final, vgg16_final, vgg19_final, resnet18_final, resnet34_final, resnet50_final, densenet121_final] \n",
    "print('gw:')\n",
    "\n",
    "gw_measure = []\n",
    "for z in all_final:\n",
    "    counter = 0\n",
    "    n=0\n",
    "    wf = z.get_weights()\n",
    "    for i in range(len(wf)):\n",
    "        if len(wf[i].shape) == 2:\n",
    "            zz = np.mean(np.abs(cosine(wf[i])))\n",
    "            n = n - (wf[i].shape[1]-1)*wf[i].shape[0]*np.log(1-zz)-wf[i].shape[0]*np.log(1+wf[i].shape[1]*zz-zz)\n",
    "            counter += 1\n",
    "        elif len(wf[i].shape) == 4 and wf[i].shape[0]>1:\n",
    "            n_in = wf[i].shape[2]\n",
    "            n_out = wf[i].shape[3]\n",
    "\n",
    "            wf[i] = wf[i].transpose((2,3,0,1))\n",
    "            wf[i] = wf[i].reshape(wf[i].shape[0],wf[i].shape[1],-1)\n",
    "            zz = 0\n",
    "            for xx in wf[i]:\n",
    "                zz = zz + np.mean(np.abs(cosine(xx.T)))/len(wf[i])\n",
    "            if zz < 1:    \n",
    "                zzz = (n_out-1)*n_in*np.log(1-zz)-n_in*np.log(1+n_out*zz-zz)\n",
    "            else:\n",
    "                zzz = -50000\n",
    "            n = n - zzz\n",
    "            counter += 1\n",
    "    gw_measure.append(n/counter)\n",
    "print(gw_measure) "
   ]
  },
  {
   "cell_type": "code",
   "execution_count": 12,
   "metadata": {},
   "outputs": [
    {
     "name": "stdout",
     "output_type": "stream",
     "text": [
      "-----PFN-----\n",
      "POS: 21\n",
      "NEG: 15\n",
      "0.16666666666666666\n",
      "-----PSN-----\n",
      "POS: 21\n",
      "NEG: 15\n",
      "0.16666666666666666\n",
      "-----NOP-----\n",
      "POS: 22\n",
      "NEG: 14\n",
      "0.2222222222222222\n",
      "-----SOSP-----\n",
      "POS: 26\n",
      "NEG: 10\n",
      "0.4444444444444444\n",
      "-----WC-----\n",
      "POS: 24\n",
      "NEG: 12\n",
      "0.3333333333333333\n",
      "-----PB-----\n",
      "POS: 24\n",
      "NEG: 12\n",
      "0.3333333333333333\n",
      "-----gw-----\n",
      "POS: 24\n",
      "NEG: 12\n",
      "0.3333333333333333\n",
      "-----PBC-----\n",
      "POS: 29\n",
      "NEG: 7\n",
      "0.6111111111111112\n"
     ]
    }
   ],
   "source": [
    "import numpy as np\n",
    "def kendall(a,b):\n",
    "    pos = 0\n",
    "    neg = 0\n",
    "    for i in range(len(a)-1):\n",
    "        for j in range(i+1,len(a)):\n",
    "            if (a[i]-a[j])*(b[i]-b[j])>0:\n",
    "                pos += 1\n",
    "            else:\n",
    "                neg += 1\n",
    "    print('POS:',pos)\n",
    "    print('NEG:',neg)\n",
    "    print((pos-neg)/(pos+neg))\n",
    "    \n",
    "print('-----PFN-----')    \n",
    "kendall(gap,np.array(PFN_measure)) \n",
    "\n",
    "print('-----PSN-----')  \n",
    "kendall(gap,np.array(PSN_measure)) \n",
    "\n",
    "print('-----NOP-----')  \n",
    "kendall(gap,np.array(NOP_measure)) \n",
    "\n",
    "print('-----SOSP-----')  \n",
    "kendall(gap,np.array(SOSP_measure)) \n",
    "\n",
    "print('-----WC-----')  \n",
    "kendall(gap,np.array(WC_measure)) \n",
    "\n",
    "print('-----PB-----')  \n",
    "kendall(gap,np.array(PB_measure)) \n",
    "\n",
    "print('-----gw-----') \n",
    "kendall(gap,np.array(gw_measure)) \n",
    "\n",
    "print('-----PBC-----') \n",
    "kendall(gap,np.array(PB_measure)+np.array(gw_measure)) "
   ]
  },
  {
   "cell_type": "code",
   "execution_count": null,
   "metadata": {},
   "outputs": [],
   "source": []
  }
 ],
 "metadata": {
  "kernelspec": {
   "display_name": "Python 3",
   "language": "python",
   "name": "python3"
  },
  "language_info": {
   "codemirror_mode": {
    "name": "ipython",
    "version": 3
   },
   "file_extension": ".py",
   "mimetype": "text/x-python",
   "name": "python",
   "nbconvert_exporter": "python",
   "pygments_lexer": "ipython3",
   "version": "3.7.6"
  }
 },
 "nbformat": 4,
 "nbformat_minor": 4
}
