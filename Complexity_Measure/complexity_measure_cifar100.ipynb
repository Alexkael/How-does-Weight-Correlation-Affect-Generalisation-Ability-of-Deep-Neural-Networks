{
 "cells": [
  {
   "cell_type": "code",
   "execution_count": 1,
   "metadata": {},
   "outputs": [
    {
     "name": "stderr",
     "output_type": "stream",
     "text": [
      "Using TensorFlow backend.\n",
      "/LOCAL/gjin/anaconda3/lib/python3.7/site-packages/tensorflow/python/framework/dtypes.py:526: FutureWarning: Passing (type, 1) or '1type' as a synonym of type is deprecated; in a future version of numpy, it will be understood as (type, (1,)) / '(1,)type'.\n",
      "  _np_qint8 = np.dtype([(\"qint8\", np.int8, 1)])\n",
      "/LOCAL/gjin/anaconda3/lib/python3.7/site-packages/tensorflow/python/framework/dtypes.py:527: FutureWarning: Passing (type, 1) or '1type' as a synonym of type is deprecated; in a future version of numpy, it will be understood as (type, (1,)) / '(1,)type'.\n",
      "  _np_quint8 = np.dtype([(\"quint8\", np.uint8, 1)])\n",
      "/LOCAL/gjin/anaconda3/lib/python3.7/site-packages/tensorflow/python/framework/dtypes.py:528: FutureWarning: Passing (type, 1) or '1type' as a synonym of type is deprecated; in a future version of numpy, it will be understood as (type, (1,)) / '(1,)type'.\n",
      "  _np_qint16 = np.dtype([(\"qint16\", np.int16, 1)])\n",
      "/LOCAL/gjin/anaconda3/lib/python3.7/site-packages/tensorflow/python/framework/dtypes.py:529: FutureWarning: Passing (type, 1) or '1type' as a synonym of type is deprecated; in a future version of numpy, it will be understood as (type, (1,)) / '(1,)type'.\n",
      "  _np_quint16 = np.dtype([(\"quint16\", np.uint16, 1)])\n",
      "/LOCAL/gjin/anaconda3/lib/python3.7/site-packages/tensorflow/python/framework/dtypes.py:530: FutureWarning: Passing (type, 1) or '1type' as a synonym of type is deprecated; in a future version of numpy, it will be understood as (type, (1,)) / '(1,)type'.\n",
      "  _np_qint32 = np.dtype([(\"qint32\", np.int32, 1)])\n",
      "/LOCAL/gjin/anaconda3/lib/python3.7/site-packages/tensorflow/python/framework/dtypes.py:535: FutureWarning: Passing (type, 1) or '1type' as a synonym of type is deprecated; in a future version of numpy, it will be understood as (type, (1,)) / '(1,)type'.\n",
      "  np_resource = np.dtype([(\"resource\", np.ubyte, 1)])\n"
     ]
    },
    {
     "name": "stdout",
     "output_type": "stream",
     "text": [
      "WARNING:tensorflow:From /LOCAL/gjin/anaconda3/lib/python3.7/site-packages/tensorflow/python/framework/op_def_library.py:263: colocate_with (from tensorflow.python.framework.ops) is deprecated and will be removed in a future version.\n",
      "Instructions for updating:\n",
      "Colocations handled automatically by placer.\n",
      "WARNING:tensorflow:From /LOCAL/gjin/anaconda3/lib/python3.7/site-packages/tensorflow/python/ops/math_ops.py:3066: to_int32 (from tensorflow.python.ops.math_ops) is deprecated and will be removed in a future version.\n",
      "Instructions for updating:\n",
      "Use tf.cast instead.\n",
      "1\n",
      "2\n",
      "WARNING:tensorflow:From /LOCAL/gjin/anaconda3/lib/python3.7/site-packages/keras/backend/tensorflow_backend.py:3445: calling dropout (from tensorflow.python.ops.nn_ops) with keep_prob is deprecated and will be removed in a future version.\n",
      "Instructions for updating:\n",
      "Please use `rate` instead of `keep_prob`. Rate should be set to `rate = 1 - keep_prob`.\n",
      "3\n",
      "4\n",
      "5\n",
      "6\n",
      "7\n",
      "8\n",
      "9\n"
     ]
    }
   ],
   "source": [
    "import numpy as np\n",
    "from numpy import linalg as LA\n",
    "import pickle\n",
    "import sys\n",
    "import os\n",
    "from keras.models import load_model\n",
    "from scipy.linalg import eigh\n",
    "\n",
    "def cosine(x):\n",
    "    d_inner = np.dot(x.T,x) #inner product\n",
    "\n",
    "    l2 = np.linalg.norm(x,axis=0)\n",
    "    d_norm = np.outer(l2.T,l2) #l2 norm\n",
    "    d_norm = (d_inner+0.00001)/(d_norm+0.00001)\n",
    "    return d_norm \n",
    "\n",
    "import tensorflow as tf\n",
    "os.environ[\"CUDA_VISIBLE_DEVICES\"]=\"1\" \n",
    "config = tf.ConfigProto()\n",
    "config.gpu_options.per_process_gpu_memory_fraction = 0.95\n",
    "session = tf.Session(config=config)\n",
    "\n",
    "fcn1_initial = load_model('relu_cifar100_5000-2500-2500-1250/initial.h5')\n",
    "fcn1_final = load_model('relu_cifar100_5000-2500-2500-1250'+'/final.h5')\n",
    "print(1)\n",
    "fcn2_initial = load_model('relu_cifar100_10000-1000-1000-1000/initial.h5')\n",
    "fcn2_final = load_model('relu_cifar100_10000-1000-1000-1000'+'/final.h5')\n",
    "print(2)\n",
    "vgg11_initial = load_model('vgg11_cifar100/initial.h5')\n",
    "vgg11_final = load_model('vgg11_cifar100'+'/final.h5')\n",
    "print(3)\n",
    "vgg16_initial = load_model('vgg16_cifar100/initial.h5')\n",
    "vgg16_final = load_model('vgg16_cifar100'+'/final.h5')\n",
    "print(4)\n",
    "vgg19_initial = load_model('vgg19_cifar100/initial.h5')\n",
    "vgg19_final = load_model('vgg19_cifar100'+'/final.h5')\n",
    "print(5)\n",
    "resnet18_initial = load_model('resnet18_cifar100/initial.h5')\n",
    "resnet18_final = load_model('resnet18_cifar100'+'/final.h5')\n",
    "print(6)\n",
    "resnet34_initial = load_model('resnet34_cifar100/initial.h5')\n",
    "resnet34_final = load_model('resnet34_cifar100'+'/final.h5')\n",
    "print(7)\n",
    "resnet50_initial = load_model('resnet50_cifar100/initial.h5')\n",
    "resnet50_final = load_model('resnet50_cifar100'+'/final.h5')\n",
    "print(8)\n",
    "densenet121_initial = load_model('densenet121_cifar100/initial.h5')\n",
    "densenet121_final = load_model('densenet121_cifar100'+'/final.h5')\n",
    "print(9)"
   ]
  },
  {
   "cell_type": "code",
   "execution_count": 2,
   "metadata": {},
   "outputs": [
    {
     "name": "stdout",
     "output_type": "stream",
     "text": [
      "4.251395093300343\n",
      "3.7546866759109494\n",
      "2.549686437034607\n",
      "1.3878222824859618\n",
      "1.7264234423065186\n",
      "5.7566505273723605\n",
      "5.660707189331054\n",
      "4.320865329372883\n",
      "4.583720909181331\n",
      "[4.251395093300343, 3.7546866759109494, 2.549686437034607, 1.3878222824859618, 1.7264234423065186, 5.7566505273723605, 5.660707189331054, 4.320865329372883, 4.583720909181331]\n"
     ]
    }
   ],
   "source": [
    "import sys \n",
    "sys.path.append(\"..\") \n",
    "import utils\n",
    "\n",
    "gap = []\n",
    "trn, tst = utils.get_cifar100('FCN')\n",
    "for z in [fcn1_final, fcn2_final]:\n",
    "    trnloss, trnacc = z.evaluate(trn.X, trn.Y, verbose=0)\n",
    "    tstloss, tstacc = z.evaluate(tst.X, tst.Y, verbose=0)\n",
    "    print(tstloss-trnloss)\n",
    "    gap.append(tstloss-trnloss)\n",
    "\n",
    "trn, tst = utils.get_cifar100('CNN')    \n",
    "for z in [vgg11_final, vgg16_final, vgg19_final, resnet18_final, resnet34_final, resnet50_final, densenet121_final]:\n",
    "    trnloss, trnacc = z.evaluate(trn.X, trn.Y, verbose=0)\n",
    "    tstloss, tstacc = z.evaluate(tst.X, tst.Y, verbose=0)\n",
    "    print(tstloss-trnloss)\n",
    "    gap.append(tstloss-trnloss)\n",
    "\n",
    "print(gap)"
   ]
  },
  {
   "cell_type": "code",
   "execution_count": 3,
   "metadata": {},
   "outputs": [
    {
     "name": "stdout",
     "output_type": "stream",
     "text": [
      "PFN:\n",
      "[224352787.53549945, 100377646.76324835, 1428014975680.7751, 6.630076711849133e+16, 2.0645483419625482e+20, 1.0902068882426622e+24, 1.563125939975015e+39, 9.134087724244897e+76, 1.4347570152667757e+192]\n"
     ]
    }
   ],
   "source": [
    "all_final = [fcn1_final, fcn2_final,vgg11_final, vgg16_final, vgg19_final, resnet18_final, resnet34_final, resnet50_final, densenet121_final] \n",
    "print('PFN:')\n",
    "\n",
    "PFN_measure = []\n",
    "for z in all_final:\n",
    "    wf = z.get_weights()\n",
    "    pp = 1\n",
    "    for w in wf:\n",
    "        if len(w.shape)>1:\n",
    "            pp = pp*LA.norm(w) \n",
    "    PFN_measure.append(pp)\n",
    "print(PFN_measure)"
   ]
  },
  {
   "cell_type": "code",
   "execution_count": 4,
   "metadata": {},
   "outputs": [
    {
     "name": "stdout",
     "output_type": "stream",
     "text": [
      "PSN:\n",
      "[20672.27287672647, 14853.760327674816, 3591710.59497501, 443729345.7899164, 15829121228.844782, 4569526074501.898, 9.173079117049581e+18, 1.0655301834236763e+46, 4.264056339718124e+153]\n"
     ]
    }
   ],
   "source": [
    "all_final = [fcn1_final, fcn2_final,vgg11_final, vgg16_final, vgg19_final, resnet18_final, resnet34_final, resnet50_final, densenet121_final] \n",
    "print('PSN:')\n",
    "\n",
    "PSN_measure = []\n",
    "for z in all_final:\n",
    "    pp = 1\n",
    "    wf = z.get_weights()\n",
    "    for i in range(len(wf)):\n",
    "        if len(wf[i].shape) == 2:\n",
    "            if wf[i].shape[0] > wf[i].shape[1]:\n",
    "                aa = wf[i].T.dot(wf[i])\n",
    "            else:\n",
    "                aa = wf[i].dot(wf[i].T)     \n",
    "            pp = pp * np.sqrt(np.max(np.sum(np.abs(aa),axis=1)))\n",
    "        elif len(wf[i].shape) == 4:\n",
    "            aa = 0\n",
    "            for w1 in wf[i]:\n",
    "                for w2 in w1:\n",
    "                    zz = w2.dot(w2.T)\n",
    "                    aa = aa + np.max(np.sum(np.abs(zz),axis=1))\n",
    "            pp = pp * np.sqrt(aa)\n",
    "    PSN_measure.append(pp)\n",
    "print(PSN_measure)    "
   ]
  },
  {
   "cell_type": "code",
   "execution_count": 5,
   "metadata": {},
   "outputs": [
    {
     "name": "stdout",
     "output_type": "stream",
     "text": [
      "NOP:\n",
      "[37360001, 42820001, 9793217, 15285953, 20594369, 11222209, 21322945, 23659713, 6972609]\n"
     ]
    }
   ],
   "source": [
    "all_final = [fcn1_final, fcn2_final,vgg11_final, vgg16_final, vgg19_final, resnet18_final, resnet34_final, resnet50_final, densenet121_final] \n",
    "print('NOP:')\n",
    "\n",
    "NOP_measure = []\n",
    "for z in all_final:\n",
    "    pp = 1\n",
    "    wf = z.get_weights()\n",
    "    for i in range(len(wf)):\n",
    "        if len(wf[i].shape) == 2:\n",
    "            pp = pp + wf[i].shape[0]*wf[i].shape[1]\n",
    "        elif len(wf[i].shape) == 4:\n",
    "            pp = pp + wf[i].shape[0]*wf[i].shape[1]*wf[i].shape[2]*wf[i].shape[3]\n",
    "    NOP_measure.append(pp)\n",
    "print(NOP_measure)  "
   ]
  },
  {
   "cell_type": "code",
   "execution_count": 6,
   "metadata": {},
   "outputs": [
    {
     "name": "stdout",
     "output_type": "stream",
     "text": [
      "SOSP:\n",
      "[870619559.3070984, 984466756.310463, 427605635.84409696, 699868760.9188745, 1086421145.9780598, 867718324.2066714, 3099976133.037247, 5212987345.779156, 16502330410.619022]\n"
     ]
    }
   ],
   "source": [
    "all_final = [fcn1_final, fcn2_final,vgg11_final, vgg16_final, vgg19_final, resnet18_final, resnet34_final, resnet50_final, densenet121_final]\n",
    "all_initial = [fcn1_initial, fcn2_initial,vgg11_initial, vgg16_initial, vgg19_initial, resnet18_initial, resnet34_initial, resnet50_initial, densenet121_initial] \n",
    "print('SOSP:')\n",
    "\n",
    "SOSP_measure = []\n",
    "for z,x in zip(all_final,all_initial):\n",
    "    n=0\n",
    "    pp=0\n",
    "    wf = z.get_weights()\n",
    "    w0 = x.get_weights()\n",
    "    \n",
    "    for i in range(len(wf)):\n",
    "        wf[i]=wf[i]-w0[i]\n",
    "        if len(wf[i].shape) == 2:\n",
    "            n = n + wf[i].shape[0]*wf[i].shape[1]\n",
    "        elif len(wf[i].shape) == 4:\n",
    "            n = n + wf[i].shape[0]*wf[i].shape[1]*wf[i].shape[2]*wf[i].shape[3]\n",
    "\n",
    "        if len(wf[i].shape) == 2:\n",
    "            if wf[i].shape[0] > wf[i].shape[1]:\n",
    "                aa = wf[i].T.dot(wf[i])\n",
    "            else:\n",
    "                aa = wf[i].dot(wf[i].T)     \n",
    "            pp = pp + np.sqrt(np.max(np.sum(np.abs(aa),axis=1)))\n",
    "        elif len(wf[i].shape) == 4:\n",
    "            aa = 0\n",
    "            for w1 in wf[i]:\n",
    "                for w2 in w1:\n",
    "                    zz = w2.dot(w2.T)\n",
    "                    aa = aa + np.max(np.sum(np.abs(zz),axis=1))\n",
    "            pp = pp + np.sqrt(aa)\n",
    "    pp = n*pp\n",
    "    SOSP_measure.append(pp)\n",
    "print(SOSP_measure) "
   ]
  },
  {
   "cell_type": "code",
   "execution_count": 7,
   "metadata": {},
   "outputs": [
    {
     "name": "stdout",
     "output_type": "stream",
     "text": [
      "WC:\n",
      "[0.27586371302604673, 0.2781343460083008, 0.28092431358641423, 0.27954561825623236, 0.27771727591097095, 0.764596920965066, 0.7810627145878237, 0.27886186537761537, 0.38944591411104046]\n"
     ]
    }
   ],
   "source": [
    "all_final = [fcn1_final, fcn2_final,vgg11_final, vgg16_final, vgg19_final, resnet18_final, resnet34_final, resnet50_final, densenet121_final] \n",
    "print('WC:')\n",
    "\n",
    "WC_measure = []\n",
    "for z in all_final:\n",
    "    pp = 1\n",
    "    n=0\n",
    "    counter = 0\n",
    "    wf = z.get_weights()\n",
    "    for i in range(len(wf)):\n",
    "        if len(wf[i].shape) == 2:\n",
    "            n = n + np.mean(np.abs(cosine(wf[i][:9])))\n",
    "            counter += 1\n",
    "        elif len(wf[i].shape) == 4 and wf[i].shape[0]>1:\n",
    "            wf[i] = wf[i].transpose((2,3,0,1))\n",
    "            wf[i] = wf[i].reshape(wf[i].shape[0],wf[i].shape[1],-1)\n",
    "            for zz in wf[i]:\n",
    "                n = n + np.mean(np.abs(cosine(zz.T)))\n",
    "                counter += 1\n",
    "    WC_measure.append(n/counter)\n",
    "print(WC_measure)   "
   ]
  },
  {
   "cell_type": "code",
   "execution_count": 8,
   "metadata": {},
   "outputs": [
    {
     "name": "stdout",
     "output_type": "stream",
     "text": [
      "PB:\n",
      "[499.7317981586018, 489.3143142363713, 5219.481303902085, 3897.7522113471214, 5225.044258124161, 5358.507097778803, 10638.252448871905, 1136224.3536500433, 1934697257.2833683]\n"
     ]
    }
   ],
   "source": [
    "all_final = [fcn1_final, fcn2_final,vgg11_final, vgg16_final, vgg19_final, resnet18_final, resnet34_final, resnet50_final, densenet121_final]\n",
    "all_initial = [fcn1_initial, fcn2_initial,vgg11_initial, vgg16_initial, vgg19_initial, resnet18_initial, resnet34_initial, resnet50_initial, densenet121_initial] \n",
    "print('PB:')\n",
    "\n",
    "PB_measure = []\n",
    "for z,x in zip(all_final,all_initial):\n",
    "    pp=0\n",
    "    wf = z.get_weights()\n",
    "    w0 = x.get_weights()\n",
    "    \n",
    "    for i in range(len(wf)):\n",
    "        pp = pp+LA.norm(wf[i]-w0[i])**2\n",
    "    PB_measure.append(pp/2) #assume 2*sigma^2 = 2\n",
    "print(PB_measure)"
   ]
  },
  {
   "cell_type": "code",
   "execution_count": 12,
   "metadata": {},
   "outputs": [
    {
     "name": "stdout",
     "output_type": "stream",
     "text": [
      "gw:\n",
      "[110826.08734453183, 127056.93950873404, 33665.21304855671, 35697.00304765269, 40184.34656449328, 153976.38975235666, 151922.462288232, 24774.73840998059, 2383.1638428583424]\n"
     ]
    }
   ],
   "source": [
    "all_final = [fcn1_final, fcn2_final,vgg11_final, vgg16_final, vgg19_final, resnet18_final, resnet34_final, resnet50_final, densenet121_final] \n",
    "print('gw:')\n",
    "\n",
    "gw_measure = []\n",
    "for z in all_final:\n",
    "    counter = 0\n",
    "    n=0\n",
    "    wf = z.get_weights()\n",
    "    for i in range(len(wf)):\n",
    "        if len(wf[i].shape) == 2:\n",
    "            zz = np.mean(np.abs(cosine(wf[i])))\n",
    "            n = n - (wf[i].shape[1]-1)*wf[i].shape[0]*np.log(1-zz)-wf[i].shape[0]*np.log(1+wf[i].shape[1]*zz-zz)\n",
    "            counter += 1\n",
    "        elif len(wf[i].shape) == 4 and wf[i].shape[0]>1:\n",
    "            n_in = wf[i].shape[2]\n",
    "            n_out = wf[i].shape[3]\n",
    "\n",
    "            wf[i] = wf[i].transpose((2,3,0,1))\n",
    "            wf[i] = wf[i].reshape(wf[i].shape[0],wf[i].shape[1],-1)\n",
    "            zz = 0\n",
    "            for xx in wf[i]:\n",
    "                zz = zz + np.mean(np.abs(cosine(xx.T)))/len(wf[i])\n",
    "            if zz < 1:    \n",
    "                zzz = (n_out-1)*n_in*np.log(1-zz)-n_in*np.log(1+n_out*zz-zz)\n",
    "            else:\n",
    "                zzz = -50000\n",
    "            n = n - zzz\n",
    "            counter += 1\n",
    "    gw_measure.append(n/counter)\n",
    "print(gw_measure) "
   ]
  },
  {
   "cell_type": "code",
   "execution_count": 14,
   "metadata": {},
   "outputs": [
    {
     "name": "stdout",
     "output_type": "stream",
     "text": [
      "-----PFN-----\n",
      "POS: 23\n",
      "NEG: 13\n",
      "0.2777777777777778\n",
      "-----PSN-----\n",
      "POS: 23\n",
      "NEG: 13\n",
      "0.2777777777777778\n",
      "-----NOP-----\n",
      "POS: 16\n",
      "NEG: 20\n",
      "-0.1111111111111111\n",
      "-----SOSP-----\n",
      "POS: 23\n",
      "NEG: 13\n",
      "0.2777777777777778\n",
      "-----WC-----\n",
      "POS: 26\n",
      "NEG: 10\n",
      "0.4444444444444444\n",
      "-----PB-----\n",
      "POS: 24\n",
      "NEG: 12\n",
      "0.3333333333333333\n",
      "-----gw-----\n",
      "POS: 22\n",
      "NEG: 14\n",
      "0.2222222222222222\n",
      "-----PBC-----\n",
      "POS: 28\n",
      "NEG: 8\n",
      "0.5555555555555556\n"
     ]
    }
   ],
   "source": [
    "import numpy as np\n",
    "def kendall(a,b):\n",
    "    pos = 0\n",
    "    neg = 0\n",
    "    for i in range(len(a)-1):\n",
    "        for j in range(i+1,len(a)):\n",
    "            if (a[i]-a[j])*(b[i]-b[j])>0:\n",
    "                pos += 1\n",
    "            else:\n",
    "                neg += 1\n",
    "    print('POS:',pos)\n",
    "    print('NEG:',neg)\n",
    "    print((pos-neg)/(pos+neg))\n",
    "    \n",
    "print('-----PFN-----')    \n",
    "kendall(gap,np.array(PFN_measure)) \n",
    "\n",
    "print('-----PSN-----')  \n",
    "kendall(gap,np.array(PSN_measure)) \n",
    "\n",
    "print('-----NOP-----')  \n",
    "kendall(gap,np.array(NOP_measure)) \n",
    "\n",
    "print('-----SOSP-----')  \n",
    "kendall(gap,np.array(SOSP_measure)) \n",
    "\n",
    "print('-----WC-----')  \n",
    "kendall(gap,np.array(WC_measure)) \n",
    "\n",
    "print('-----PB-----')  \n",
    "kendall(gap,np.array(PB_measure)) \n",
    "\n",
    "print('-----gw-----') \n",
    "kendall(gap,np.array(gw_measure)) \n",
    "\n",
    "print('-----PBC-----') \n",
    "kendall(gap,np.array(PB_measure)+np.array(gw_measure)) "
   ]
  },
  {
   "cell_type": "code",
   "execution_count": null,
   "metadata": {},
   "outputs": [],
   "source": []
  }
 ],
 "metadata": {
  "kernelspec": {
   "display_name": "Python 3",
   "language": "python",
   "name": "python3"
  },
  "language_info": {
   "codemirror_mode": {
    "name": "ipython",
    "version": 3
   },
   "file_extension": ".py",
   "mimetype": "text/x-python",
   "name": "python",
   "nbconvert_exporter": "python",
   "pygments_lexer": "ipython3",
   "version": "3.7.6"
  }
 },
 "nbformat": 4,
 "nbformat_minor": 4
}
