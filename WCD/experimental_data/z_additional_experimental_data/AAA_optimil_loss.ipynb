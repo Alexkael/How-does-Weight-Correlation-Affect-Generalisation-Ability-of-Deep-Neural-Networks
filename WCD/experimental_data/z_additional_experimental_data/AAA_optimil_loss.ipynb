{
 "cells": [
  {
   "cell_type": "code",
   "execution_count": 4,
   "metadata": {},
   "outputs": [
    {
     "name": "stdout",
     "output_type": "stream",
     "text": [
      "VGG11_normal_cifar100\n",
      "optimil loss: 3.1383 acc: 0.2376 trn_loss: 2.9736 convergent_loss: 2.9192\n",
      "  \n",
      "VGG11_corr_cifar100\n",
      "optimil loss: 3.0431 acc: 0.2504 trn_loss: 2.8279 convergent_loss: 2.8279\n",
      "  \n",
      "VGG11_normal_cal256\n",
      "optimil loss: 4.8079 acc: 0.0998 trn_loss: 3.5795 convergent_loss: 0.8025\n",
      "  \n",
      "VGG11_corr_cal256\n",
      "optimil loss: 4.7793 acc: 0.1037 trn_loss: 3.8649 convergent_loss: 0.7926\n",
      "  \n",
      "VGG16_normal_cifar100\n",
      "optimil loss: 3.0903 acc: 0.2453 trn_loss: 2.8587 convergent_loss: 2.8562\n",
      "  \n",
      "VGG16_corr_cifar100\n",
      "optimil loss: 3.0821 acc: 0.2402 trn_loss: 2.9345 convergent_loss: 2.8503\n",
      "  \n",
      "VGG16_normal_cal256\n",
      "optimil loss: 4.9509 acc: 0.0897 trn_loss: 3.8873 convergent_loss: 1.4474\n",
      "  \n",
      "VGG16_corr_cal256\n",
      "optimil loss: 4.7461 acc: 0.1111 trn_loss: 3.7153 convergent_loss: 1.6579\n",
      "  \n",
      "VGG19_normal_cifar100\n",
      "optimil loss: 3.0581 acc: 0.2425 trn_loss: 2.8117 convergent_loss: 2.805\n",
      "  \n",
      "VGG19_corr_cifar100\n",
      "optimil loss: 3.043 acc: 0.243 trn_loss: 2.851 convergent_loss: 2.8528\n",
      "  \n",
      "VGG19_normal_cal256\n",
      "optimil loss: 4.9664 acc: 0.0911 trn_loss: 3.9406 convergent_loss: 1.518\n",
      "  \n",
      "VGG19_corr_cal256\n",
      "optimil loss: 4.6984 acc: 0.1142 trn_loss: 3.7897 convergent_loss: 1.5255\n",
      "  \n"
     ]
    }
   ],
   "source": [
    "import numpy as np\n",
    "\n",
    "data = ['cifar100','cal256']\n",
    "typ = ['normal','corr']\n",
    "net = ['VGG11','VGG16','VGG19']\n",
    "\n",
    "for n in net:\n",
    "    for d in data:\n",
    "        for t in typ:\n",
    "            val_loss=[]\n",
    "            loss=[]\n",
    "            val_acc=[]\n",
    "            for line in open(n+'_'+t+'_'+d+'.out'):\n",
    "                if line.find('val_loss:')>0:\n",
    "                    val_loss.append(float(line[line.find('val_loss:')+10:line.find('val_loss:')+16]))\n",
    "                    val_acc.append(float(line[line.find('val_acc:')+9:line.find('val_acc:')+15]))\n",
    "                    loss.append(float(line[line.find('loss:')+6:line.find('loss:')+12]))\n",
    "\n",
    "            min_loss = min(val_loss)\n",
    "            c_acc = val_acc[val_loss.index(min_loss)]\n",
    "            trn_loss = loss[val_loss.index(min_loss)]\n",
    "            print(n+'_'+t+'_'+d)\n",
    "            print('optimil loss:', min_loss, 'acc:', c_acc, 'trn_loss:', trn_loss, 'convergent_loss:', loss[-1])\n",
    "            print('  ')"
   ]
  },
  {
   "cell_type": "code",
   "execution_count": null,
   "metadata": {},
   "outputs": [],
   "source": []
  }
 ],
 "metadata": {
  "kernelspec": {
   "display_name": "Python 3",
   "language": "python",
   "name": "python3"
  },
  "language_info": {
   "codemirror_mode": {
    "name": "ipython",
    "version": 3
   },
   "file_extension": ".py",
   "mimetype": "text/x-python",
   "name": "python",
   "nbconvert_exporter": "python",
   "pygments_lexer": "ipython3",
   "version": "3.7.6"
  }
 },
 "nbformat": 4,
 "nbformat_minor": 4
}
